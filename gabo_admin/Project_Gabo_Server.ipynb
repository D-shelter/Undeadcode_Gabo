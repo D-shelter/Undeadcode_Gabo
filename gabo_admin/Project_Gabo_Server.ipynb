{
 "cells": [
  {
   "cell_type": "markdown",
   "id": "36e5c068",
   "metadata": {},
   "source": [
    "# 프로젝트 가보"
   ]
  },
  {
   "cell_type": "code",
   "execution_count": 1,
   "id": "92537eb2",
   "metadata": {
    "scrolled": false
   },
   "outputs": [
    {
     "name": "stdout",
     "output_type": "stream",
     "text": [
      " * Serving Flask app \"__main__\" (lazy loading)\n",
      " * Environment: production\n",
      "\u001b[31m   WARNING: This is a development server. Do not use it in a production deployment.\u001b[0m\n",
      "\u001b[2m   Use a production WSGI server instead.\u001b[0m\n",
      " * Debug mode: off\n"
     ]
    },
    {
     "name": "stderr",
     "output_type": "stream",
     "text": [
      " * Running on http://192.168.21.252:5013/ (Press CTRL+C to quit)\n",
      "192.168.21.252 - - [29/Aug/2022 15:11:07] \"POST /index HTTP/1.1\" 200 -\n",
      "192.168.21.252 - - [29/Aug/2022 15:11:08] \"GET /static/plugins/chartist/css/chartist.min.css HTTP/1.1\" 200 -\n",
      "192.168.21.252 - - [29/Aug/2022 15:11:08] \"GET /static/plugins/pg-calendar/css/pignose.calendar.min.css HTTP/1.1\" 200 -\n",
      "192.168.21.252 - - [29/Aug/2022 15:11:08] \"GET /static/plugins/chartist-plugin-tooltips/css/chartist-plugin-tooltip.css HTTP/1.1\" 200 -\n",
      "192.168.21.252 - - [29/Aug/2022 15:11:08] \"GET /static/plugins/circle-progress/circle-progress.min.js HTTP/1.1\" 200 -\n",
      "192.168.21.252 - - [29/Aug/2022 15:11:08] \"GET /static/plugins/topojson/topojson.min.js HTTP/1.1\" 200 -\n",
      "192.168.21.252 - - [29/Aug/2022 15:11:08] \"GET /static/plugins/morris/morris.min.js HTTP/1.1\" 200 -\n",
      "192.168.21.252 - - [29/Aug/2022 15:11:08] \"GET /static/plugins/raphael/raphael.min.js HTTP/1.1\" 200 -\n",
      "192.168.21.252 - - [29/Aug/2022 15:11:08] \"GET /static/plugins/d3v3/index.js HTTP/1.1\" 200 -\n",
      "192.168.21.252 - - [29/Aug/2022 15:11:08] \"GET /static/plugins/datamaps/datamaps.world.min.js HTTP/1.1\" 200 -\n",
      "192.168.21.252 - - [29/Aug/2022 15:11:08] \"GET /static/plugins/moment/moment.min.js HTTP/1.1\" 200 -\n",
      "192.168.21.252 - - [29/Aug/2022 15:11:08] \"GET /static/plugins/chart.js/Chart.bundle.min.js HTTP/1.1\" 200 -\n",
      "192.168.21.252 - - [29/Aug/2022 15:11:08] \"GET /static/plugins/pg-calendar/js/pignose.calendar.min.js HTTP/1.1\" 200 -\n",
      "192.168.21.252 - - [29/Aug/2022 15:11:08] \"GET /static/images/star.png HTTP/1.1\" 200 -\n",
      "192.168.21.252 - - [29/Aug/2022 15:11:08] \"GET /static/images/logo-compact.png HTTP/1.1\" 200 -\n",
      "192.168.21.252 - - [29/Aug/2022 15:11:08] \"GET /static/plugins/chartist-plugin-tooltips/js/chartist-plugin-tooltip.min.js HTTP/1.1\" 200 -\n",
      "192.168.21.252 - - [29/Aug/2022 15:11:08] \"GET /static/images/avatar/1.jpg HTTP/1.1\" 200 -\n",
      "192.168.21.252 - - [29/Aug/2022 15:11:08] \"GET /static/js/dashboard/dashboard-1.js HTTP/1.1\" 200 -\n",
      "192.168.21.252 - - [29/Aug/2022 15:11:08] \"GET /static/images/avatar/2.jpg HTTP/1.1\" 200 -\n",
      "192.168.21.252 - - [29/Aug/2022 15:11:08] \"GET /static/plugins/chartist/js/chartist.min.js HTTP/1.1\" 200 -\n",
      "192.168.21.252 - - [29/Aug/2022 15:11:08] \"GET /static/images/avatar/3.jpg HTTP/1.1\" 200 -\n",
      "192.168.21.252 - - [29/Aug/2022 15:11:08] \"GET /static/images/user/1.png HTTP/1.1\" 200 -\n",
      "192.168.21.252 - - [29/Aug/2022 15:11:08] \"GET /static/images/users/8.jpg HTTP/1.1\" 200 -\n",
      "192.168.21.252 - - [29/Aug/2022 15:11:08] \"GET /static/images/avatar/4.jpg HTTP/1.1\" 200 -\n",
      "192.168.21.252 - - [29/Aug/2022 15:11:08] \"GET /static/images/users/5.jpg HTTP/1.1\" 200 -\n",
      "192.168.21.252 - - [29/Aug/2022 15:11:08] \"GET /static/images/users/7.jpg HTTP/1.1\" 200 -\n",
      "192.168.21.252 - - [29/Aug/2022 15:11:08] \"GET /static/images/users/1.jpg HTTP/1.1\" 200 -\n",
      "192.168.21.252 - - [29/Aug/2022 15:11:08] \"GET /static/images/avatar/6.jpg HTTP/1.1\" 200 -\n",
      "192.168.21.252 - - [29/Aug/2022 15:11:08] \"GET /static/images/avatar/5.jpg HTTP/1.1\" 200 -\n",
      "192.168.21.252 - - [29/Aug/2022 15:11:08] \"GET /static/icons/simple-line-icons/fonts/Simple-Line-Icons4c82.ttf?-i3a2kk HTTP/1.1\" 200 -\n",
      "192.168.21.252 - - [29/Aug/2022 15:11:08] \"GET /static/icons/material-design-iconic-font/fonts/materialdesignicons-webfont.woff2?v=2.4.85 HTTP/1.1\" 200 -\n",
      "192.168.21.252 - - [29/Aug/2022 15:11:08] \"GET /static/icons/font-awesome/fonts/fontawesome-webfont3e6e.woff2?v=4.7.0 HTTP/1.1\" 200 -\n",
      "192.168.21.252 - - [29/Aug/2022 15:11:08] \"GET /static/icons/themify-icons/fonts/themify.woff HTTP/1.1\" 200 -\n",
      "192.168.21.252 - - [29/Aug/2022 15:11:08] \"GET /static/images/favicon.png HTTP/1.1\" 200 -\n",
      "192.168.21.252 - - [29/Aug/2022 15:13:22] \"GET /app-profile.html HTTP/1.1\" 404 -\n",
      "192.168.21.8 - - [29/Aug/2022 15:18:29] \"POST /login HTTP/1.1\" 200 -\n"
     ]
    },
    {
     "name": "stdout",
     "output_type": "stream",
     "text": [
      "로그인 시도\n",
      "[('test1', 'qwer1234!', 'test', datetime.datetime(1991, 4, 13, 0, 0), '158745651231', 'wnefoxcn@naovn.sdfnm', '남', 1, datetime.datetime(2022, 8, 26, 9, 56, 12), None, None, 0, 0, 'test')]\n",
      "test1 로그인\n"
     ]
    },
    {
     "name": "stderr",
     "output_type": "stream",
     "text": [
      "192.168.21.8 - - [29/Aug/2022 15:23:17] \"POST /login HTTP/1.1\" 200 -\n"
     ]
    },
    {
     "name": "stdout",
     "output_type": "stream",
     "text": [
      "로그인 시도\n",
      "[('test1', 'qwer1234!', 'test', datetime.datetime(1991, 4, 13, 0, 0), '158745651231', 'wnefoxcn@naovn.sdfnm', '남', 1, datetime.datetime(2022, 8, 26, 9, 56, 12), None, None, 0, 0, 'test')]\n",
      "test1 로그인\n"
     ]
    },
    {
     "name": "stderr",
     "output_type": "stream",
     "text": [
      "192.168.21.8 - - [29/Aug/2022 15:23:36] \"POST /login HTTP/1.1\" 200 -\n",
      "192.168.21.8 - - [29/Aug/2022 15:23:36] \"POST /login HTTP/1.1\" 200 -\n"
     ]
    },
    {
     "name": "stdout",
     "output_type": "stream",
     "text": [
      "로그인 시도\n",
      "[('test1', 'qwer1234!', 'test', datetime.datetime(1991, 4, 13, 0, 0), '158745651231', 'wnefoxcn@naovn.sdfnm', '남', 1, datetime.datetime(2022, 8, 26, 9, 56, 12), None, None, 0, 0, 'test')]\n",
      "test1 로그인\n",
      "로그인 시도\n",
      "[('test1', 'qwer1234!', 'test', datetime.datetime(1991, 4, 13, 0, 0), '158745651231', 'wnefoxcn@naovn.sdfnm', '남', 1, datetime.datetime(2022, 8, 26, 9, 56, 12), None, None, 0, 0, 'test')]\n",
      "test1 로그인\n"
     ]
    },
    {
     "name": "stderr",
     "output_type": "stream",
     "text": [
      "192.168.21.160 - - [29/Aug/2022 15:24:58] \"GET / HTTP/1.1\" 200 -\n",
      "192.168.21.160 - - [29/Aug/2022 15:24:58] \"GET /static/css/style.css HTTP/1.1\" 200 -\n",
      "192.168.21.160 - - [29/Aug/2022 15:24:58] \"GET /static/plugins/common/common.min.js HTTP/1.1\" 200 -\n",
      "192.168.21.160 - - [29/Aug/2022 15:24:58] \"GET /static/js/custom.min.js HTTP/1.1\" 200 -\n",
      "192.168.21.160 - - [29/Aug/2022 15:24:58] \"GET /static/js/settings.js HTTP/1.1\" 200 -\n",
      "192.168.21.160 - - [29/Aug/2022 15:24:58] \"GET /static/js/gleek.js HTTP/1.1\" 200 -\n",
      "192.168.21.160 - - [29/Aug/2022 15:24:58] \"GET /static/js/styleSwitcher.js HTTP/1.1\" 200 -\n",
      "192.168.21.160 - - [29/Aug/2022 15:24:58] \"GET /static/icons/simple-line-icons/css/simple-line-icons.css HTTP/1.1\" 200 -\n",
      "192.168.21.160 - - [29/Aug/2022 15:24:58] \"GET /static/icons/weather-icons/css/weather-icons.min.css HTTP/1.1\" 200 -\n",
      "192.168.21.160 - - [29/Aug/2022 15:24:58] \"GET /static/icons/cryptocoins/css/cryptocoins-colors.css HTTP/1.1\" 200 -\n",
      "192.168.21.160 - - [29/Aug/2022 15:24:58] \"GET /static/icons/cryptocoins/css/cryptocoins.css HTTP/1.1\" 200 -\n",
      "192.168.21.160 - - [29/Aug/2022 15:24:58] \"GET /static/icons/font-awesome/css/font-awesome.min.css HTTP/1.1\" 200 -\n",
      "192.168.21.160 - - [29/Aug/2022 15:24:58] \"GET /static/icons/linea-icons/linea.css HTTP/1.1\" 200 -\n",
      "192.168.21.160 - - [29/Aug/2022 15:24:58] \"GET /static/icons/ionicons/css/ionicons.css HTTP/1.1\" 200 -\n",
      "192.168.21.160 - - [29/Aug/2022 15:24:58] \"GET /static/icons/themify-icons/themify-icons.css HTTP/1.1\" 200 -\n",
      "192.168.21.160 - - [29/Aug/2022 15:24:58] \"GET /static/icons/flag-icon-css/flag-icon.min.css HTTP/1.1\" 200 -\n",
      "192.168.21.160 - - [29/Aug/2022 15:24:58] \"GET /static/icons/material-design-iconic-font/materialdesignicons.min.css HTTP/1.1\" 200 -\n",
      "192.168.21.160 - - [29/Aug/2022 15:24:58] \"GET /static/icons/pe-icon-set-weather/css/pe-icon-set-weather.min.css HTTP/1.1\" 200 -\n",
      "192.168.21.160 - - [29/Aug/2022 15:24:58] \"GET /static/plugins/metismenu/css/metisMenu.min.css HTTP/1.1\" 200 -\n",
      "192.168.21.160 - - [29/Aug/2022 15:24:58] \"GET /static/plugins/animate/animate.min.css HTTP/1.1\" 200 -\n",
      "192.168.21.160 - - [29/Aug/2022 15:24:58] \"GET /static/plugins/bootstrap-select/dist/css/bootstrap-select.min.css HTTP/1.1\" 200 -\n",
      "192.168.21.160 - - [29/Aug/2022 15:24:58] \"GET /static/images/custom-select.png HTTP/1.1\" 200 -\n",
      "192.168.21.160 - - [29/Aug/2022 15:32:21] \"GET /static/plugins/common/bootstrap-select.js.map HTTP/1.1\" 404 -\n",
      "192.168.21.160 - - [29/Aug/2022 15:32:21] \"GET /static/icons/material-design-iconic-font/materialdesignicons.css.map HTTP/1.1\" 404 -\n",
      "192.168.21.160 - - [29/Aug/2022 15:32:21] \"GET /static/plugins/metismenu/css/metisMenu.min.css.map HTTP/1.1\" 404 -\n",
      "192.168.21.160 - - [29/Aug/2022 15:32:21] \"GET /static/css/style.css.map HTTP/1.1\" 200 -\n",
      "192.168.21.8 - - [29/Aug/2022 15:32:23] \"POST /login HTTP/1.1\" 200 -\n",
      "192.168.21.8 - - [29/Aug/2022 15:32:23] \"POST /login HTTP/1.1\" 200 -\n"
     ]
    },
    {
     "name": "stdout",
     "output_type": "stream",
     "text": [
      "로그인 시도\n",
      "[('test1', 'qwer1234!', 'test', datetime.datetime(1991, 4, 13, 0, 0), '158745651231', 'wnefoxcn@naovn.sdfnm', '남', 1, datetime.datetime(2022, 8, 26, 9, 56, 12), None, None, 0, 0, 'test')]\n",
      "test1 로그인\n",
      "로그인 시도\n",
      "[('test1', 'qwer1234!', 'test', datetime.datetime(1991, 4, 13, 0, 0), '158745651231', 'wnefoxcn@naovn.sdfnm', '남', 1, datetime.datetime(2022, 8, 26, 9, 56, 12), None, None, 0, 0, 'test')]\n",
      "test1 로그인\n"
     ]
    },
    {
     "name": "stderr",
     "output_type": "stream",
     "text": [
      "192.168.21.8 - - [29/Aug/2022 15:33:25] \"POST /login HTTP/1.1\" 200 -\n",
      "192.168.21.8 - - [29/Aug/2022 15:33:25] \"POST /login HTTP/1.1\" 200 -\n"
     ]
    },
    {
     "name": "stdout",
     "output_type": "stream",
     "text": [
      "로그인 시도\n",
      "[('test1', 'qwer1234!', 'test', datetime.datetime(1991, 4, 13, 0, 0), '158745651231', 'wnefoxcn@naovn.sdfnm', '남', 1, datetime.datetime(2022, 8, 26, 9, 56, 12), None, None, 0, 0, 'test')]\n",
      "test1 로그인\n",
      "로그인 시도\n",
      "[('test1', 'qwer1234!', 'test', datetime.datetime(1991, 4, 13, 0, 0), '158745651231', 'wnefoxcn@naovn.sdfnm', '남', 1, datetime.datetime(2022, 8, 26, 9, 56, 12), None, None, 0, 0, 'test')]\n",
      "test1 로그인\n"
     ]
    },
    {
     "name": "stderr",
     "output_type": "stream",
     "text": [
      "192.168.21.160 - - [29/Aug/2022 15:36:21] \"POST /index HTTP/1.1\" 200 -\n",
      "192.168.21.160 - - [29/Aug/2022 15:36:21] \"GET /static/plugins/pg-calendar/css/pignose.calendar.min.css HTTP/1.1\" 200 -\n",
      "192.168.21.160 - - [29/Aug/2022 15:36:21] \"GET /static/plugins/chartist/css/chartist.min.css HTTP/1.1\" 200 -\n",
      "192.168.21.160 - - [29/Aug/2022 15:36:21] \"GET /static/images/star.png HTTP/1.1\" 200 -\n",
      "192.168.21.160 - - [29/Aug/2022 15:36:21] \"GET /static/images/logo-compact.png HTTP/1.1\" 200 -\n",
      "192.168.21.160 - - [29/Aug/2022 15:36:21] \"GET /static/plugins/chartist-plugin-tooltips/css/chartist-plugin-tooltip.css HTTP/1.1\" 200 -\n",
      "192.168.21.160 - - [29/Aug/2022 15:36:21] \"GET /static/images/avatar/1.jpg HTTP/1.1\" 200 -\n",
      "192.168.21.160 - - [29/Aug/2022 15:36:21] \"GET /static/images/avatar/2.jpg HTTP/1.1\" 200 -\n",
      "192.168.21.160 - - [29/Aug/2022 15:36:21] \"GET /static/images/avatar/3.jpg HTTP/1.1\" 200 -\n",
      "192.168.21.160 - - [29/Aug/2022 15:36:21] \"GET /static/images/users/8.jpg HTTP/1.1\" 200 -\n",
      "192.168.21.160 - - [29/Aug/2022 15:36:21] \"GET /static/images/avatar/4.jpg HTTP/1.1\" 200 -\n",
      "192.168.21.160 - - [29/Aug/2022 15:36:21] \"GET /static/images/users/5.jpg HTTP/1.1\" 200 -\n",
      "192.168.21.160 - - [29/Aug/2022 15:36:21] \"GET /static/images/user/1.png HTTP/1.1\" 200 -\n",
      "192.168.21.160 - - [29/Aug/2022 15:36:21] \"GET /static/images/users/7.jpg HTTP/1.1\" 200 -\n",
      "192.168.21.160 - - [29/Aug/2022 15:36:21] \"GET /static/css/style.css.map HTTP/1.1\" 200 -\n",
      "192.168.21.160 - - [29/Aug/2022 15:36:21] \"GET /static/images/users/1.jpg HTTP/1.1\" 200 -\n",
      "192.168.21.160 - - [29/Aug/2022 15:36:21] \"GET /static/icons/simple-line-icons/fonts/Simple-Line-Icons4c82.ttf?-i3a2kk HTTP/1.1\" 200 -\n",
      "192.168.21.160 - - [29/Aug/2022 15:36:21] \"GET /static/icons/font-awesome/fonts/fontawesome-webfont3e6e.woff2?v=4.7.0 HTTP/1.1\" 200 -\n",
      "192.168.21.160 - - [29/Aug/2022 15:36:21] \"GET /static/icons/themify-icons/fonts/themify.woff HTTP/1.1\" 200 -\n",
      "192.168.21.160 - - [29/Aug/2022 15:36:21] \"GET /static/icons/material-design-iconic-font/fonts/materialdesignicons-webfont.woff2?v=2.4.85 HTTP/1.1\" 200 -\n",
      "192.168.21.160 - - [29/Aug/2022 15:36:21] \"GET /static/images/avatar/6.jpg HTTP/1.1\" 200 -\n",
      "192.168.21.160 - - [29/Aug/2022 15:36:22] \"GET /static/plugins/chart.js/Chart.bundle.min.js HTTP/1.1\" 200 -\n",
      "192.168.21.160 - - [29/Aug/2022 15:36:22] \"GET /static/plugins/circle-progress/circle-progress.min.js HTTP/1.1\" 200 -\n",
      "192.168.21.160 - - [29/Aug/2022 15:36:22] \"GET /static/plugins/d3v3/index.js HTTP/1.1\" 200 -\n",
      "192.168.21.160 - - [29/Aug/2022 15:36:22] \"GET /static/plugins/datamaps/datamaps.world.min.js HTTP/1.1\" 200 -\n",
      "192.168.21.160 - - [29/Aug/2022 15:36:22] \"GET /static/plugins/topojson/topojson.min.js HTTP/1.1\" 200 -\n",
      "192.168.21.160 - - [29/Aug/2022 15:36:22] \"GET /static/plugins/raphael/raphael.min.js HTTP/1.1\" 200 -\n",
      "192.168.21.160 - - [29/Aug/2022 15:36:22] \"GET /static/plugins/morris/morris.min.js HTTP/1.1\" 200 -\n",
      "192.168.21.160 - - [29/Aug/2022 15:36:22] \"GET /static/plugins/pg-calendar/js/pignose.calendar.min.js HTTP/1.1\" 200 -\n",
      "192.168.21.160 - - [29/Aug/2022 15:36:22] \"GET /static/plugins/moment/moment.min.js HTTP/1.1\" 200 -\n",
      "192.168.21.160 - - [29/Aug/2022 15:36:22] \"GET /static/plugins/chartist/js/chartist.min.js HTTP/1.1\" 200 -\n",
      "192.168.21.160 - - [29/Aug/2022 15:36:22] \"GET /static/js/dashboard/dashboard-1.js HTTP/1.1\" 200 -\n",
      "192.168.21.160 - - [29/Aug/2022 15:36:22] \"GET /static/plugins/chartist-plugin-tooltips/js/chartist-plugin-tooltip.min.js HTTP/1.1\" 200 -\n",
      "192.168.21.160 - - [29/Aug/2022 15:36:22] \"GET /static/images/avatar/5.jpg HTTP/1.1\" 200 -\n",
      "192.168.21.160 - - [29/Aug/2022 15:36:22] \"GET /static/icons/material-design-iconic-font/materialdesignicons.css.map HTTP/1.1\" 404 -\n",
      "192.168.21.160 - - [29/Aug/2022 15:36:22] \"GET /static/plugins/metismenu/css/metisMenu.min.css.map HTTP/1.1\" 404 -\n",
      "192.168.21.160 - - [29/Aug/2022 15:36:22] \"GET /static/plugins/chartist-plugin-tooltips/css/chartist-plugin-tooltip.css.map HTTP/1.1\" 404 -\n",
      "192.168.21.160 - - [29/Aug/2022 15:36:22] \"GET /static/plugins/common/bootstrap-select.js.map HTTP/1.1\" 404 -\n",
      "192.168.21.160 - - [29/Aug/2022 15:36:22] \"GET /static/plugins/chartist/js/chartist.min.js.map HTTP/1.1\" 404 -\n",
      "192.168.21.160 - - [29/Aug/2022 15:36:22] \"GET /static/plugins/chartist-plugin-tooltips/js/chartist-plugin-tooltip.min.js.map HTTP/1.1\" 404 -\n",
      "192.168.21.160 - - [29/Aug/2022 15:36:22] \"GET /static/images/favicon.png HTTP/1.1\" 200 -\n",
      "192.168.21.160 - - [29/Aug/2022 15:36:34] \"GET /index HTTP/1.1\" 405 -\n",
      "192.168.21.8 - - [29/Aug/2022 15:37:12] \"POST /login HTTP/1.1\" 200 -\n"
     ]
    },
    {
     "name": "stdout",
     "output_type": "stream",
     "text": [
      "로그인 시도\n",
      "[]\n"
     ]
    },
    {
     "name": "stderr",
     "output_type": "stream",
     "text": [
      "192.168.21.8 - - [29/Aug/2022 15:37:22] \"POST /login HTTP/1.1\" 200 -\n"
     ]
    },
    {
     "name": "stdout",
     "output_type": "stream",
     "text": [
      "로그인 시도\n",
      "[('test1', 'qwer1234!', 'test', datetime.datetime(1991, 4, 13, 0, 0), '158745651231', 'wnefoxcn@naovn.sdfnm', '남', 1, datetime.datetime(2022, 8, 26, 9, 56, 12), None, None, 0, 0, 'test')]\n",
      "test1 로그인\n"
     ]
    }
   ],
   "source": [
    "from flask import Flask, render_template, redirect, request, url_for, session\n",
    "import cx_Oracle as db\n",
    "\n",
    "app = Flask(__name__)\n",
    "\n",
    "db_id = 'parky'\n",
    "db_pw = 'qwer1234'\n",
    "url = '192.168.21.252:1521/xe'\n",
    "\n",
    "@app.route('/join', methods=['POST'])\n",
    "def join():\n",
    "    print('회원가입 요청')\n",
    "    id = request.form['id']\n",
    "    pw = request.form['pw']\n",
    "    email = request.form['email']\n",
    "    name = request.form['name']\n",
    "    nick = request.form['nick']\n",
    "    phone = request.form['phone']\n",
    "    birth = request.form['birth']\n",
    "    gender = request.form['gender']\n",
    "    \n",
    "    conn = db.connect(db_id, db_pw, url)\n",
    "    curs = conn.cursor()\n",
    "    \n",
    "    sql = \"insert into t_user(user_id, user_pw,user_name,user_nick,user_birth,user_phone,user_email,user_gender,user_startdate) values (:1,:2,:3,:4,:5,:6,:7,:8,sysdate)\"\n",
    "    curs.execute(sql,(id,pw,name,nick,birth,phone,email,gender))\n",
    "    conn.commit()\n",
    "    curs.close()\n",
    "    conn.close()\n",
    "    print(f'회원정보 : {id},{pw},{name},{nick},{birth},{phone},{email},{gender}')\n",
    "    return '가입 완료'\n",
    "\n",
    "@app.route('/login', methods=['POST'])\n",
    "def login():\n",
    "    print('로그인 시도')\n",
    "    id = request.form['id']\n",
    "    pw = request.form['pw']\n",
    "    \n",
    "    conn = db.connect(db_id, db_pw, url)\n",
    "    curs = conn.cursor()\n",
    "    \n",
    "    sql = \"select * from t_user where (user_id = :1) and (user_pw = :2)\"\n",
    "    curs.execute(sql,(id,pw))\n",
    "    result = curs.fetchall()\n",
    "    print(result)\n",
    "    curs.close()\n",
    "    conn.close()\n",
    "    try :\n",
    "        ##print(\"{},{},{},{},{},{},{},{},{},{},{},{}\".format(result[0][0],result[0][1],result[0][2],result[0][3].isoformat()[:10],result[0][4],result[0][5],result[0][6],result[0][7],result[0][8].isoformat()[:10],result[0][10],result[0][11],result[0][13]))\n",
    "        print(\"{} 로그인\".format(result[0][0]))\n",
    "    \n",
    "        if result[0][12] == 1:\n",
    "            ## 블랙리스트\n",
    "            return \"블랙리스트\"\n",
    "        elif result[0][9] is not None:\n",
    "            return \"탈퇴회원\"\n",
    "        else :\n",
    "            return \"로그인성공\"\n",
    "            ##return \"{},{},{},{},{},{},{},{},{},{},{},{}\".format(result[0][0],result[0][1],result[0][2],result[0][3].isoformat()[:10],result[0][4],result[0][5],result[0][6],result[0][7],result[0][8].isoformat()[:10],result[0][10],result[0][11],result[0][13])\n",
    "    except :\n",
    "        return \"회원아님\"\n",
    "\n",
    "@app.route('/end', methods=['POST'])\n",
    "def end():\n",
    "    print('탈퇴 요청')\n",
    "    id = request.form['id']\n",
    "    \n",
    "    conn = db.connect(db_id, db_pw, url)\n",
    "    curs = conn.cursor()\n",
    "    \n",
    "    sql = \"update t_user set user_enddate = sysdate where user_id = :1\"\n",
    "    curs.execute(sql(id))\n",
    "    curs.commit()\n",
    "    curs.close()\n",
    "    conn.close()\n",
    "    \n",
    "    return \"탈퇴\"\n",
    "\n",
    "## 마이페이지 = 숨긴보물수, 찾은보물수, 좋아요, 레벨 갱신\n",
    "@app.route('/mypage', methods=['POST'])\n",
    "def mypage():\n",
    "    print('보물 갱신')\n",
    "    id = request.form['id']\n",
    "    \n",
    "    conn = db.connect(db_id, db_pw, url)\n",
    "    curs = conn.cursor()\n",
    "    \n",
    "    sql = \"select (select count(t.t_hideuser) from t_treasure t where t.t_hideuser = :1), (select count(t.t_finduser) from t_treasure t where t.t_finduser = :1) , (select user_like from user where t_hideuser = :1), (select user_level from user where t_hideuser = :1) from t_treasure where t_hideuser = :1 GROUP BY t_hideuser\"\n",
    "    curs.execute(sql,(id))\n",
    "    result = curs.fetchall()\n",
    "    \n",
    "    curs.close()\n",
    "    conn.close()\n",
    "    \n",
    "    ## 숨긴보물수, 찾은보물수, 좋아요, 레벨 순\n",
    "    return \"{},{},{},{}\".format(result[0][0],result[0][1],result[0][2],result[0][3])\n",
    "\n",
    "@app.route('/alluserlist', methods=['POST'])\n",
    "def alluserlist():\n",
    "    print('모든 유저 리스트 조회')\n",
    "    \n",
    "    conn = db.connect(db_id, db_pw, url)\n",
    "    curs = conn.cursor()\n",
    "    \n",
    "    sql = \"select * from user\"\n",
    "    curs.execute(sql)\n",
    "    result = curs.fetchall()\n",
    "    print(result)\n",
    "    curs.close()\n",
    "    conn.close()\n",
    "    \n",
    "    listmember = \"\"\n",
    "    \n",
    "    for i in range(len(result)):\n",
    "        for j in range(len(result[0])):\n",
    "            if j ==3:\n",
    "                listmember += str(result[i][j].isoformat()[:10]) + \",\"\n",
    "            elif j ==13:\n",
    "                listmember += str(result[i][j]) + \"/\"\n",
    "            else:\n",
    "                listmember += str(result[i][j]) + \",\"\n",
    "        \n",
    "        \n",
    "    return listmember\n",
    "\n",
    "@app.route('/addtreasure', methods=['POST'])\n",
    "def addtreasure():\n",
    "    print('보물 등록')\n",
    "    cate = request.form['cate'] ## 코드(숫자)\n",
    "    key1 = request.form['key1']\n",
    "    key2 = request.form['key2']\n",
    "    key3 = request.form['key3']\n",
    "    loca = request.form['loca'] ## 장소 코드?? \n",
    "    hideuser = request.form['hideuser']\n",
    "    \n",
    "    conn = db.connect(db_id, db_pw, url)\n",
    "    curs = conn.cursor()\n",
    "    \n",
    "    ## :1이랑 :5가 넘버타입이라 인서트 안될수도 있음 그러면 f포멧팅 형식으로 바꿔보기 그래도 안되면 위 변수들을 int()로 감싸주기\n",
    "    \n",
    "    sql = \"insert into t_treasure values(1,:1,:2,:3,:4,:5,:6,'','',0)\"\n",
    "    curs.execute(sql(cate,key1,key2,key3,loca,hideuser))\n",
    "    curs.commit()\n",
    "    curs.close()\n",
    "    conn.close()\n",
    "    \n",
    "    return \"등록완료\"\n",
    "    \n",
    "#### 관리자 페이지\n",
    "@app.route('/', methods=['GET'])\n",
    "def loginPage():\n",
    "    return render_template('page-login.html')\n",
    "\n",
    "@app.route('/loginCheck', methods = ['POST']) #로그인 기능\n",
    "def loginCheck():\n",
    "    print('로그인 요청')\n",
    "    admin_id = request.form['id']\n",
    "    admin_pw = request.form['pw']\n",
    "    \n",
    "    conn = db.connect(db_id, db_pw, url)\n",
    "    curs=conn.cursor()\n",
    "    sql = \"select * from t_admin where admin_id = :1 and admin_pw = :2\"\n",
    "    curs.execute(sql, (admin_id, admin_pw))\n",
    "    result = curs.fetchall();\n",
    "\n",
    "    curs.close()\n",
    "    conn.close()\n",
    "\n",
    "    if admin_id == result[0][0] and admin_pw == result[0][1]:\n",
    "        session['id'] = admin_id\n",
    "        return redirect(url_for('mainPage'))\n",
    "    else:\n",
    "        return redirect(url_for('/'))\n",
    "\n",
    "\n",
    "\n",
    "\n",
    "@app.route('/mainPage', methods = ['Get'])\n",
    "def index():\n",
    "    return render_template('index.html')   \n",
    "          \n",
    "if __name__ == '__main__':\n",
    "    app.run(host='192.168.21.252', port=5013)"
   ]
  },
  {
   "cell_type": "code",
   "execution_count": 3,
   "id": "fe027401",
   "metadata": {},
   "outputs": [
    {
     "name": "stdout",
     "output_type": "stream",
     "text": [
      "Collecting cx_Oracle\n",
      "  Downloading cx_Oracle-8.3.0-cp39-cp39-win_amd64.whl (213 kB)\n",
      "Installing collected packages: cx-Oracle\n",
      "Successfully installed cx-Oracle-8.3.0\n"
     ]
    }
   ],
   "source": [
    "!pip install cx_Oracle"
   ]
  },
  {
   "cell_type": "code",
   "execution_count": null,
   "id": "6282a3db",
   "metadata": {},
   "outputs": [],
   "source": []
  },
  {
   "cell_type": "code",
   "execution_count": null,
   "id": "cbed848f",
   "metadata": {},
   "outputs": [],
   "source": []
  },
  {
   "cell_type": "code",
   "execution_count": null,
   "id": "62903331",
   "metadata": {},
   "outputs": [],
   "source": []
  },
  {
   "cell_type": "code",
   "execution_count": null,
   "id": "3256d240",
   "metadata": {},
   "outputs": [],
   "source": []
  },
  {
   "cell_type": "code",
   "execution_count": null,
   "id": "d70182e6",
   "metadata": {},
   "outputs": [],
   "source": []
  },
  {
   "cell_type": "code",
   "execution_count": null,
   "id": "da0175e8",
   "metadata": {},
   "outputs": [],
   "source": []
  },
  {
   "cell_type": "code",
   "execution_count": null,
   "id": "b58b241d",
   "metadata": {},
   "outputs": [],
   "source": []
  },
  {
   "cell_type": "code",
   "execution_count": null,
   "id": "ca42a6f9",
   "metadata": {},
   "outputs": [],
   "source": []
  },
  {
   "cell_type": "code",
   "execution_count": null,
   "id": "71c7dd52",
   "metadata": {},
   "outputs": [],
   "source": []
  },
  {
   "cell_type": "code",
   "execution_count": null,
   "id": "f8b35c08",
   "metadata": {},
   "outputs": [],
   "source": []
  },
  {
   "cell_type": "code",
   "execution_count": null,
   "id": "ceb4b229",
   "metadata": {},
   "outputs": [],
   "source": []
  },
  {
   "cell_type": "code",
   "execution_count": null,
   "id": "5251389a",
   "metadata": {},
   "outputs": [],
   "source": []
  },
  {
   "cell_type": "code",
   "execution_count": null,
   "id": "68eaa129",
   "metadata": {},
   "outputs": [],
   "source": []
  },
  {
   "cell_type": "code",
   "execution_count": null,
   "id": "b4808cfb",
   "metadata": {},
   "outputs": [],
   "source": []
  }
 ],
 "metadata": {
  "kernelspec": {
   "display_name": "Python 3.9.12 ('base')",
   "language": "python",
   "name": "python3"
  },
  "language_info": {
   "codemirror_mode": {
    "name": "ipython",
    "version": 3
   },
   "file_extension": ".py",
   "mimetype": "text/x-python",
   "name": "python",
   "nbconvert_exporter": "python",
   "pygments_lexer": "ipython3",
   "version": "3.9.12"
  },
  "vscode": {
   "interpreter": {
    "hash": "e4cce46d6be9934fbd27f9ca0432556941ea5bdf741d4f4d64c6cd7f8dfa8fba"
   }
  }
 },
 "nbformat": 4,
 "nbformat_minor": 5
}
